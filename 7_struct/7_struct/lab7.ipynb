{
 "cells": [
  {
   "cell_type": "markdown",
   "metadata": {},
   "source": [
    "# 21M.387 Fundamentals of Music Processing\n",
    "## Lab7"
   ]
  },
  {
   "cell_type": "code",
   "execution_count": 9,
   "metadata": {},
   "outputs": [],
   "source": [
    "import numpy as np\n",
    "import matplotlib.pyplot as plt\n",
    "import IPython.display as ipd\n",
    "from ipywidgets import interact\n",
    "\n",
    "import sys\n",
    "sys.path.append(\"../common\")\n",
    "from util import *\n",
    "import fmp\n",
    "\n",
    "%matplotlib inline\n",
    "plt.rcParams['figure.figsize'] = (12, 5)"
   ]
  },
  {
   "cell_type": "markdown",
   "metadata": {},
   "source": [
    "## Exercise 1\n",
    "\n",
    "- Find a song - ideally a short one: 2-3 minutes in length\n",
    "- Using Audacity, save it as a 22050Hz, mono wave file.\n",
    "- Using Sonic Visualizer, add markers to the song at the locations that you consider to be section boundaries:\n",
    "  - Open the wave file.\n",
    "  - Play it.\n",
    "  - Each time you get to a section boundary, hit `;`.\n",
    "  - After you are done, you can edit the markers to adjust them a bit.\n",
    "  - Save the session\n",
    "  - Export Annotation Layer and save it as a txt file."
   ]
  },
  {
   "cell_type": "markdown",
   "metadata": {},
   "source": [
    "## Exercise 2\n",
    "\n",
    "- Load the annotations into python using `load_annotiations(filename)`. You can call this list `ref` for reference annotation.\n",
    "- Load the song file as well into the variable `snd`"
   ]
  },
  {
   "cell_type": "code",
   "execution_count": 10,
   "metadata": {},
   "outputs": [
    {
     "data": {
      "text/plain": [
       "<matplotlib.collections.LineCollection at 0x7f6d3f54f150>"
      ]
     },
     "execution_count": 10,
     "metadata": {},
     "output_type": "execute_result"
    },
    {
     "data": {
      "image/png": "[encoded data removed]",
      "text/plain": [
       "<matplotlib.figure.Figure at 0x7f6d7941d250>"
      ]
     },
     "metadata": {},
     "output_type": "display_data"
    }
   ],
   "source": [
    "snd = load_wav(\"audio/brahms_hungarian_dance_5a.wav\")\n",
    "ref = fmp.load_boundary_annotations(\"audio/brahms_hungarian_dance_5a.lab\")\n",
    "plt.vlines(ref,0,1)"
   ]
  },
  {
   "cell_type": "markdown",
   "metadata": {},
   "source": [
    "## Exercise 3\n",
    "\n",
    "Create the function: `audio_to_ssm(snd, cens_filt_len, cens_ds)` that does this:\n",
    "- Create a regular chromagram using `fmp.make_chromagram` from `snd`, no normalization, no log compression. Use parameters:\n",
    "  - $N = 4096$\n",
    "  - $H = 2048$\n",
    "- Use CENS (`fmp.cens`) to create a CENS chromagram with input parameters `cens_filt_len` and `cens_ds`\n",
    "- Create the SSM from this chromagram\n",
    "- Return both the SSM and the feature rate of the the chromagram\n",
    "\n",
    "- Call the this function for the song you just loaded. Pick some value for `cens_filt_len` and `cens_ds` that seem reasonable.    \n",
    "- Print the feature rate.  \n",
    "- Plot the SSM.  "
   ]
  },
  {
   "cell_type": "code",
   "execution_count": 24,
   "metadata": {},
   "outputs": [
    {
     "data": {
      "image/png": "[encoded data removed]",
      "text/plain": [
       "<matplotlib.figure.Figure at 0x7f6d3f378510>"
      ]
     },
     "metadata": {},
     "output_type": "display_data"
    }
   ],
   "source": [
    "fs = 22050 \n",
    "\n",
    "def audio_to_ssm(snd, cens_filt_len, cens_ds):\n",
    "    fft_len = 4096\n",
    "    hop_size = fft_len / 2\n",
    "    chroma = fmp.make_chromagram(snd, fs, fft_len, hop_size, 0)\n",
    "    plt.figure()\n",
    "    plt.imshow(chroma)\n",
    "    chroma = fmp.cens(chroma, cens_filt_len, cens_ds)\n",
    "    return chroma\n",
    "\n",
    "cens_filt_len = 25\n",
    "cens_ds = 3\n",
    "a = audio_to_ssm(snd[:200000], cens_filt_len, cens_ds)\n",
    "\n"
   ]
  },
  {
   "cell_type": "markdown",
   "metadata": {},
   "source": [
    "## Exercise 4\n",
    "\n",
    "Create the novelty function using the \"sliding checkboard\" technique.\n",
    "- The function that does this is `fmp.diagonal_novelty(ssm, cb_hlen)`\n",
    "- For `cb_len`, which is the half-length of the checkerboard, pick a numeric value that is roughly 10 seconds.\n",
    "- Find the peaks of the novelty curve using `fmp.find_peaks2(x, win_len, thresh)`. These are the estimates of the boundary locations.\n",
    "- Plot the novelty function and the locations of the estimates.\n"
   ]
  },
  {
   "cell_type": "code",
   "execution_count": null,
   "metadata": {},
   "outputs": [],
   "source": []
  },
  {
   "cell_type": "markdown",
   "metadata": {},
   "source": [
    "## Exercise 5\n",
    "\n",
    "- Convert the reference annotations (which are seconds) to the feature rate of the novelty curve.\n",
    "- Recreate the plot above (novelty and boundary estimates), and add an additional plot for the reference annotations using `plt.vlines()`.\n",
    "- Use the function `fmp.calc_prf(est, ref, tau)` to calculate the Precision, Recall, and F-measure numbers. Use a `tau` of 3 seconds. But remember that `tau` must be in the same units as what you pass in for `est` and `ref`.\n",
    "- What values do you get? "
   ]
  },
  {
   "cell_type": "code",
   "execution_count": null,
   "metadata": {},
   "outputs": [],
   "source": []
  },
  {
   "cell_type": "markdown",
   "metadata": {},
   "source": [
    "## Exercise 6\n",
    "\n",
    "Try adjusting some of the parameters above and see if you can improve your F-measure.\n",
    "Those parameters are:\n",
    "- `cens_filt_len` and `cens_ds`\n",
    "- `cb_hlen`\n",
    "- `win_len` and `thresh` for `find_peaks2`\n",
    "\n"
   ]
  },
  {
   "cell_type": "code",
   "execution_count": null,
   "metadata": {},
   "outputs": [],
   "source": []
  },
  {
   "cell_type": "markdown",
   "metadata": {},
   "source": [
    "## Exercise 7\n",
    "\n",
    "Now we'll try using the Lag Matrix technique for calculating boundary estimates.\n",
    "- Call `audio_to_ssm` to create the SSM and feature rate.\n",
    "- Threshold and scale the `ssm` with `fmp.thresh_and_scale(ssm, thresh)`\n",
    "- Plot this thresholded SSM\n",
    "- Convert this SSM to a lag matrix with `fmp.make_lag_matrix(ssm)`\n",
    "- Plot the lag matrix"
   ]
  },
  {
   "cell_type": "code",
   "execution_count": null,
   "metadata": {},
   "outputs": [],
   "source": []
  },
  {
   "cell_type": "markdown",
   "metadata": {},
   "source": [
    "## Exercise 8\n",
    "\n",
    "- Create a novelty curve from the lag matrix using `fmp.column_novelty(lag_mtx, k_hlen)`\n",
    "- Pick peaks to create bounday estimates\n",
    "- Repeat the above steps to plot (on a single figure):\n",
    "  - Novelty curve\n",
    "  - Boundary estimates\n",
    "  - Reference annotations\n",
    "- Finally, calculate the Precision, Recall, and F-measure and print  "
   ]
  },
  {
   "cell_type": "code",
   "execution_count": null,
   "metadata": {},
   "outputs": [],
   "source": []
  },
  {
   "cell_type": "markdown",
   "metadata": {
    "collapsed": true
   },
   "source": [
    "## Exercise 9\n",
    "\n",
    "See if you can improve your F-measure by tweaking some of the parameters:\n",
    "- `cens_filt_len` and `cens_ds`\n",
    "- ssm thresholding parameter `thresh`\n",
    "- half-length of column kernel: `k_hlen`\n",
    "- `win_len` and `thresh` for `find_peaks2`\n",
    "\n",
    "\n"
   ]
  },
  {
   "cell_type": "code",
   "execution_count": null,
   "metadata": {},
   "outputs": [],
   "source": []
  }
 ],
 "metadata": {
  "kernelspec": {
   "display_name": "Python 2",
   "language": "python",
   "name": "python2"
  },
  "language_info": {
   "codemirror_mode": {
    "name": "ipython",
    "version": 2
   },
   "file_extension": ".py",
   "mimetype": "text/x-python",
   "name": "python",
   "nbconvert_exporter": "python",
   "pygments_lexer": "ipython2",
   "version": "2.7.12"
  }
 },
 "nbformat": 4,
 "nbformat_minor": 1
}
