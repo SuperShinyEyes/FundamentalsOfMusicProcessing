{
 "cells": [
  {
   "cell_type": "markdown",
   "metadata": {},
   "source": [
    "# 21M.387 Fundamentals of Music Processing\n",
    "## Lab4"
   ]
  },
  {
   "cell_type": "code",
   "execution_count": 1,
   "metadata": {},
   "outputs": [],
   "source": [
    "import numpy as np\n",
    "from matplotlib import pyplot as plt\n",
    "from ipywidgets import interact\n",
    "import IPython.display as ipd\n",
    "\n",
    "import sys\n",
    "sys.path.append(\"../common\")\n",
    "\n",
    "from util import *\n",
    "\n",
    "%matplotlib inline\n",
    "plt.rcParams['figure.figsize'] = (12, 6)"
   ]
  },
  {
   "cell_type": "markdown",
   "metadata": {},
   "source": [
    "## Exercise 1\n",
    "\n",
    "Rewrite the code below to use [`enumerate`](https://docs.python.org/2/library/functions.html#enumerate) instead of explicitly keeping track of and incrementing `idx`."
   ]
  },
  {
   "cell_type": "code",
   "execution_count": 2,
   "metadata": {},
   "outputs": [
    {
     "name": "stdout",
     "output_type": "stream",
     "text": [
      "0: 1\n",
      "1: 2\n",
      "2: 4\n",
      "3: 8\n",
      "4: 16\n",
      "5: 32\n",
      "6: 64\n",
      "7: 128\n"
     ]
    }
   ],
   "source": [
    "def test_1a() :\n",
    "    numbers = 2 ** np.arange(8)\n",
    "    for idx,n in enumerate(numbers):\n",
    "        print '%d: %d' % (idx, n)\n",
    "    \n",
    "test_1a()\n",
    "\n",
    "def test_1b():\n",
    "    pass\n",
    "\n",
    "test_1b()"
   ]
  },
  {
   "cell_type": "markdown",
   "metadata": {},
   "source": [
    "## Exercise 2\n",
    "\n",
    "[List comprehension](http://www.secnetix.de/olli/Python/list_comprehensions.hawk) allows you to create arrays without a `for` loop using compact synatx.   Rewrite the function below in one line using list comprehension."
   ]
  },
  {
   "cell_type": "code",
   "execution_count": 3,
   "metadata": {},
   "outputs": [
    {
     "name": "stdout",
     "output_type": "stream",
     "text": [
      "['list', 'some']\n",
      "['list', 'some']\n",
      "['list', 'some']\n"
     ]
    }
   ],
   "source": [
    "word_list = ['a', 'list', 'of', 'some', 'words']\n",
    "\n",
    "def filter_four1(wlist):\n",
    "    out = []\n",
    "    for w in wlist:\n",
    "        if len(w) == 4:\n",
    "            out.append(w)\n",
    "    return out\n",
    "\n",
    "\n",
    "print filter_four1(word_list)\n",
    "\n",
    "def filter_four2(wlist):\n",
    "    return [word for word in word_list if len(word)==4]\n",
    "\n",
    "print filter_four2(word_list)\n",
    "print filter(lambda word: len(word)==4, word_list)"
   ]
  },
  {
   "cell_type": "markdown",
   "metadata": {},
   "source": [
    "## Exercise 3\n",
    "\n",
    "`np.dot` is used for matrix multiplication, just as it is used for vector dot products. Also useful is `.T`, which provides the transpose of a matrix.\n",
    "\n",
    "For $\\mathbf{A}$ and $\\mathbf{B}$ below, calculate $\\mathbf{A}^T \\cdot \\mathbf{B}$ and $\\mathbf{A} \\cdot \\mathbf{B}^T$"
   ]
  },
  {
   "cell_type": "code",
   "execution_count": 4,
   "metadata": {},
   "outputs": [
    {
     "name": "stdout",
     "output_type": "stream",
     "text": [
      "[[1 2]\n",
      " [3 4]\n",
      " [5 6]]\n",
      "[[ 1 -1]\n",
      " [ 1 -1]\n",
      " [ 1 -1]]\n",
      "[[  9  -9]\n",
      " [ 12 -12]]\n",
      "[[-1 -1 -1]\n",
      " [-1 -1 -1]\n",
      " [-1 -1 -1]]\n"
     ]
    }
   ],
   "source": [
    "a = np.array(((1,2), (3,4), (5,6)))\n",
    "b = np.array(((1,-1), (1,-1), (1,-1)))\n",
    "\n",
    "print a\n",
    "print b\n",
    "\n",
    "atb = np.dot(a.T,b)\n",
    "abt = np.dot(a,b.T)\n",
    "\n",
    "print atb\n",
    "print abt"
   ]
  },
  {
   "cell_type": "markdown",
   "metadata": {},
   "source": [
    "## Exercise 4\n",
    "\n",
    "Matrix $\\mathbf{A}$ below is $6 \\times 3$.  \n",
    "Matrix $\\mathbf{B}$ below is $2 \\times 2$.  \n",
    "\n",
    "Use [`np.tile`](http://docs.scipy.org/doc/numpy/reference/generated/numpy.tile.html) to create a new matrix $\\mathbf{T}$ that is a _tiled_ version of $\\mathbf{B}$ so that the following calculation:\n",
    "$$ \\mathbf{C} = \\mathbf{T} \\cdot \\mathbf{A} $$\n",
    "is valid and $\\mathbf{C}$ is $2 \\times 3$\n"
   ]
  },
  {
   "cell_type": "code",
   "execution_count": 5,
   "metadata": {},
   "outputs": [
    {
     "name": "stdout",
     "output_type": "stream",
     "text": [
      "[[ 0  1  2]\n",
      " [ 3  4  5]\n",
      " [ 6  7  8]\n",
      " [ 9 10 11]\n",
      " [12 13 14]\n",
      " [15 16 17]]\n",
      "[[0 1]\n",
      " [2 3]]\n",
      "[[0 1 0 1 0 1]\n",
      " [2 3 2 3 2 3]]\n",
      "[[ 27  30  33]\n",
      " [117 132 147]]\n"
     ]
    }
   ],
   "source": [
    "a = np.arange(18).reshape(6,3)\n",
    "b = np.arange(4).reshape(2,2)\n",
    "print a\n",
    "print b\n",
    "\n",
    "t = np.tile(b,(1,3))\n",
    "print t\n",
    "c = np.dot(t,a)\n",
    "print c\n",
    "\n",
    "assert(c.shape == (2,3))"
   ]
  },
  {
   "cell_type": "markdown",
   "metadata": {},
   "source": [
    "## Exercise 5\n",
    "\n",
    "For matrix $\\mathbf{A}$ below, find:\n",
    "- the maximum value along each column, as a vector\n",
    "- the minimum value along each row, as a vector\n",
    "\n",
    "(hint: look up `np.min` and `np.max`).\n",
    "\n",
    "After you have the two vectors:\n",
    "- Divide $\\mathbf{A}$ by the max row vector (column-wise divide)\n",
    "- Subtract from $\\mathbf{A}$ the min column vector (row-wise subtraciton)"
   ]
  },
  {
   "cell_type": "code",
   "execution_count": 6,
   "metadata": {},
   "outputs": [
    {
     "name": "stdout",
     "output_type": "stream",
     "text": [
      "[[13 14  0  1  2]\n",
      " [ 3  4  5  6  7]\n",
      " [ 8  9 10 11 12]]\n",
      "[13 14 10 11 12]\n",
      "[[ 1.          1.          0.          0.09090909  0.16666667]\n",
      " [ 0.23076923  0.28571429  0.5         0.54545455  0.58333333]\n",
      " [ 0.61538462  0.64285714  1.          1.          1.        ]]\n",
      "[0 3 8]\n",
      "[[13 14  0  1  2]\n",
      " [ 0  1  2  3  4]\n",
      " [ 0  1  2  3  4]]\n"
     ]
    }
   ],
   "source": [
    "a = np.roll(np.arange(15).reshape(3,5), 2)\n",
    "print a\n",
    "\n",
    "col_max = np.max(a,0)\n",
    "col_div = a.astype(float)/col_max\n",
    "print col_max\n",
    "print col_div\n",
    "\n",
    "row_min = np.min(a,1)#.reshape(3,-1)\n",
    "#row_sub = a - row_min\n",
    "row_sub = np.subtract(a, row_min[:,np.newaxis])\n",
    "print row_min\n",
    "print row_sub"
   ]
  },
  {
   "cell_type": "markdown",
   "metadata": {},
   "source": [
    "## Exercise 6\n",
    "\n",
    "Write the function to normalize the columns of a matrix using the $L^2$ norm.\n",
    "\n",
    "Test your function by showing that the normalized matrix columns are all length 1.\n"
   ]
  },
  {
   "cell_type": "code",
   "execution_count": 7,
   "metadata": {},
   "outputs": [
    {
     "name": "stdout",
     "output_type": "stream",
     "text": [
      "[[22 23  0  1  2  3  4  5]\n",
      " [ 6  7  8  9 10 11 12 13]\n",
      " [14 15 16 17 18 19 20 21]]\n",
      "[[ 0.8221786   0.81165237  0.          0.05191741  0.09667365  0.1353881\n",
      "   0.16903085  0.19841895]\n",
      " [ 0.22423053  0.24702464  0.4472136   0.46725672  0.48336824  0.49642305\n",
      "   0.50709255  0.51588926]\n",
      " [ 0.52320456  0.5293385   0.89442719  0.88259602  0.87006284  0.857458\n",
      "   0.84515425  0.83335958]]\n",
      "[ 1.  1.  1.  1.  1.  1.  1.  1.]\n"
     ]
    }
   ],
   "source": [
    "def normalize_matrix(mtx):\n",
    "    col_norms = np.apply_along_axis(lambda x: np.dot(x,x)**0.5, 0, mtx)\n",
    "    return mtx/col_norms.astype(float)\n",
    "\n",
    "mtx = np.roll(np.arange(3*8).reshape(3,8),2)\n",
    "print mtx\n",
    "normed_matrix = normalize_matrix(mtx)\n",
    "print normed_matrix\n",
    "print np.apply_along_axis(lambda x: np.dot(x,x) , 0, normed_matrix)\n"
   ]
  },
  {
   "cell_type": "markdown",
   "metadata": {},
   "source": [
    "## Exercise 7\n",
    "\n",
    "Write the function `pitch_to_freq(p)` which takes a midi-pitch (scalar or vector) and returns the proper frequency of that pitch (or pitches).\n",
    "\n",
    "Test with the call below."
   ]
  },
  {
   "cell_type": "code",
   "execution_count": 8,
   "metadata": {},
   "outputs": [
    {
     "name": "stdout",
     "output_type": "stream",
     "text": [
      "[ 427.47405411  440.          452.89298412]\n"
     ]
    }
   ],
   "source": [
    "def pitch_to_freq(p):\n",
    "    return 2.0**((p-69.0)/12.0) * 440.0\n",
    "\n",
    "print pitch_to_freq(np.array((68.5, 69, 69.5)))"
   ]
  },
  {
   "cell_type": "markdown",
   "metadata": {},
   "source": [
    "## Exercise 8\n",
    "\n",
    "Write the function `bins_of_pitch()` which takes a single midi-pitch (scalar only) and returns an array of the frequency bins (i.e, values of $k$) that contribute to $\\pm 0.5$ semitones around that pitch.\n",
    "\n",
    "Inputs are: \n",
    "- `p`: MIDI pitch\n",
    "- `fs`: $F_s$, the sampling frequency of the signal\n",
    "- `fft_len`: $N$, the length of the DFT\n",
    "\n",
    "Test your function below."
   ]
  },
  {
   "cell_type": "code",
   "execution_count": 32,
   "metadata": {},
   "outputs": [
    {
     "name": "stdout",
     "output_type": "stream",
     "text": [
      "[40, 41, 42]\n"
     ]
    }
   ],
   "source": [
    "import math\n",
    "\n",
    "def freq_to_k(freq, fs, N):\n",
    "    # k periods / N samples\n",
    "    # fs samples / time\n",
    "    # freq = per / time = k * fs / N\n",
    "    return freq * N / fs\n",
    "\n",
    "def bins_of_pitch(p, fs, fft_len):\n",
    "    bounds = [pitch_to_freq(p-0.5), pitch_to_freq(p+0.5)]\n",
    "    ks = map(lambda f: freq_to_k(f,fs,fft_len), bounds)\n",
    "    return range(int(math.ceil(ks[0])),\n",
    "                 int(math.ceil(ks[1])))\n",
    "\n",
    "    \n",
    "\"\"\"\n",
    "def try_it(power):\n",
    "    fft_len = 2**power\n",
    "    print 'Trying', fft_len\n",
    "    for p in range(36,108):\n",
    "        bins = bins_of_pitch(p,22050,fft_len)\n",
    "        if len(bins) < 2: \n",
    "            print 'Failed on pitch', p\n",
    "            return\n",
    "    print 'Success'\n",
    "\"\"\"\n",
    "\n",
    "# should return: [40, 41, 42]\n",
    "print bins_of_pitch(69, 22050, 2048)"
   ]
  },
  {
   "cell_type": "markdown",
   "metadata": {},
   "source": [
    "## Exercise 9\n",
    "\n",
    "Given an audio signal sampled at $F_s = 22050$, we want to create a pitch-o-gram (ie, log-frequency spectorgram) that starts at the note _C2_ (pitch = 36) and ends at _C8_ (pitch=108). Furthermore, we want to ensure that every pitch-bin can draw from at least 2 frequency-bins of the STFT spectrogram. \n",
    "\n",
    "What is the smallest value of $N$ (the FFT length, which must be a power of 2) needed to create the STFT to achieve this requirement?\n",
    "\n",
    "Hint - it is very useful to use the function `bins_of_pitch()` from above."
   ]
  },
  {
   "cell_type": "code",
   "execution_count": 35,
   "metadata": {},
   "outputs": [
    {
     "name": "stdout",
     "output_type": "stream",
     "text": [
      "[False, False, False, False, False, False, False, False, False, False, False, True, True, True, True, True]\n"
     ]
    }
   ],
   "source": [
    "#@interact(power=(5,20))\n",
    "\n",
    "#diff between C2 and C8 speaks to the number of \n",
    "# repeats of the conversion matrix\n",
    "def try_it(x):\n",
    "    valid_fft_lens = [len(bins_of_pitch(p, 22050, 2**x)) >= 2 \n",
    "                      for p in range(26,109)]\n",
    "    return all(valid_fft_lens)\n",
    "\n",
    "print([try_it(y) for y in range(4,20)])\n",
    "#15\n"
   ]
  },
  {
   "cell_type": "code",
   "execution_count": null,
   "metadata": {},
   "outputs": [],
   "source": []
  }
 ],
 "metadata": {
  "kernelspec": {
   "display_name": "Python 2",
   "language": "python",
   "name": "python2"
  },
  "language_info": {
   "codemirror_mode": {
    "name": "ipython",
    "version": 2
   },
   "file_extension": ".py",
   "mimetype": "text/x-python",
   "name": "python",
   "nbconvert_exporter": "python",
   "pygments_lexer": "ipython2",
   "version": "2.7.12"
  }
 },
 "nbformat": 4,
 "nbformat_minor": 1
}
