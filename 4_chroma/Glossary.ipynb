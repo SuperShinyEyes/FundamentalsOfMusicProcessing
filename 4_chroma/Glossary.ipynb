{
 "cells": [
  {
   "cell_type": "markdown",
   "metadata": {},
   "source": [
    "# 21M.387 Fundamentals of Music Processing\n",
    "## Glossary\n"
   ]
  },
  {
   "cell_type": "markdown",
   "metadata": {},
   "source": [
    "## 2 Kick / Snare Classifier\n",
    "\n",
    "$N$ : number of samples\n",
    "\n",
    "$F_s$ : sampling rate\n",
    "\n",
    "$L$ : window size\n",
    "\n",
    "$H$ : hop size\n",
    "\n",
    "$M$ : number hops, $M = \\lfloor {N - L \\over H} \\rfloor + 1$\n",
    "\n",
    "$F_f$ : feature rate\n",
    "\n",
    "\n"
   ]
  },
  {
   "cell_type": "markdown",
   "metadata": {},
   "source": [
    "## 3 Fourier Transform\n",
    "\n",
    "DFT: $X(k) = \\sum_{n=0}^{N-1}x(n)e^{-j 2 \\pi kn / N } \\text{, for } k \\in [0:N-1]$\n",
    "\n",
    "- $N$ : number of samples in DFT (which is also the number of samples in the original signal)  \n",
    "- Frequency at $k$: $f_k = k {F_s \\over N}$\n",
    "\n",
    "Sinusoid: $x(t) = A \\cos(\\omega t + \\phi)$\n",
    "\n",
    "- $\\omega$:  _angular velocity_.\n",
    "- $\\omega = 2 \\pi f$, where $f$ is frequency in _Hertz_\n",
    "- $\\phi \\in [- \\pi, \\pi)$: _phase_.\n",
    "- $A$: amplitude\n",
    "\n",
    "\n",
    "Discrete Sinusoid: $x(n) = A \\cos(2 \\pi {k \\over N} n + \\phi)$  \n",
    "\n",
    "Dot product: $\\langle x, s \\rangle = \\sum_{n=0}^{N-1}x(n) \\cdot s(n)$\n",
    "\n",
    "FFT : Optimized version of FFT taking advantage of symmetrical nature of DFT using divide and conquer\n",
    "\n",
    "- DFT is $O(N^2)$\n",
    "- FFT is $O(N \\log N)$ if $N$ is a power of 2.\n",
    "\n",
    "STFT: $\\mathcal{X}(n,k) = \\sum_{l=0}^{N-1}x(l+nH)w(l)e^{-j 2 \\pi kl / N }$\n",
    "\n",
    "- $N$: length of DFT\n",
    "- $H$: hop size\n",
    "- $n$: time step (a \"Hop\")\n",
    "- $w(l)$: a window function (like a _Hann_ window)\n",
    "- $f_k = k F_s / N$: the frequency at $k$\n",
    "- $T_n = n H / F_s$: time time at $n$\n",
    "\n",
    "Spectrogram: $\\vert \\mathcal{X}(n,k) \\lvert^2$\n",
    "\n",
    "Gamma compression: $\\Gamma_\\gamma(v) = \\log(1+ \\gamma \\cdot v)$\n",
    "\n",
    "- $v$: value to compress\n",
    "- $\\gamma$: compression factor\n",
    "\n",
    "Zero padding: can be used to increase resolution of DFT. You're not getting more information but a finer resolution of the same information\n"
   ]
  },
  {
   "cell_type": "markdown",
   "metadata": {},
   "source": [
    "## 4 Chromagrams / DTW\n"
   ]
  },
  {
   "cell_type": "markdown",
   "metadata": {},
   "source": [
    "_Chromagram_: captures the pitch-content and harmonic content of a signal.\n",
    "- insensitive to octave\n",
    "- insensitive to timbre\n",
    "- they are also a model more closely related to how the ear hears pitch.\n",
    "\n",
    "_Pitchogram_: also known as the _Log Frequency Spectrogram_: buckets frequencies together based on the \"midi\" pitch.\n",
    "\n",
    "$\\mathbf{P} = \\mathbf{C}_{fp} \\cdot \\mathbf{X}$\n",
    "- $\\mathbf{P} \\text{ the pitch-o-gram, is a } P \\times L$ matrix  \n",
    "- $\\mathbf{C}_{fp} \\text{ the conversion matrix, is a } P \\times K$ matrix  \n",
    "- $\\mathbf{X} \\text{ the spectrogram, is a } K \\times L$ matrix  \n",
    "- $L$ is the length of the spectrogram (number of \"hops\")  \n",
    "- $K$ is the number of frequency bins. $K = 1 + N/2$.  \n",
    "- $P$ is the number of midi pitches. $P = 128$.\n",
    "\n",
    "\n",
    "\n",
    "_Chromagram computation_: Reduce the pitch-o-gram by collapsing all pitches to their respective pitch class.\n",
    "\n",
    "$\\mathbf{C} = \\mathbf{C}_{fc} \\cdot \\mathbf{X} $\n",
    "- $\\mathbf{C}$ is the chromagram, a $12 \\times L$ matrix\n",
    "- $\\mathbf{C}_{fc}$ is the conversion matrix from spectrogram to chromagram, a $12 \\times K$ matrix\n",
    "\n",
    "_Dynamic Time Warping_ attempts to find a mapping between two similar pieces of audio that are placed differently in time. \n",
    "\n",
    "Steps:\n",
    "1. Compute chromagram of both signals\n",
    "2. Creat \"cost matrix\", $\\mathbf{C}$, where every time index in chromagram 1 is compared to every time index in chromagram 2.\n",
    "3. The comparison we use is the \"cosine distance\"\n",
    "$$\\mathbf{C}(n,m) = 1 - {\\langle x_n, y_m \\rangle \\over {\\Vert x_n \\Vert \\cdot \\Vert y_m \\Vert} }$$\n",
    "4. Define path constraints\n",
    "    - It must start at $p_1 = (1,1)$ and end at $p_L = (N,M)$.\n",
    "    - It can't go backwards.\n",
    "    - It can only have certain step sizes. We will use these:\n",
    "      - $\\Sigma = \\{(1,0), (0,1), (1,1)\\}$\n",
    "5. Find shortest path using dynamic programming \n",
    "$$\\mathbf{D}(n,1) = \\sum_{k=1}^n \\mathbf{C}(k,1) \\text{ for } n \\in[1:N] $$\n",
    "$$\\mathbf{D}(1,m) = \\sum_{k=1}^m \\mathbf{C}(1,k) \\text{ for } m \\in[1:M] $$\n",
    "$$\\mathbf{D}(n,m) = \\mathbf{C}(n,m) + \\mathrm{min}\n",
    "\\begin{cases}\n",
    "\\mathbf{D}(n-1,m) \\\\\n",
    "\\mathbf{D}(n,m-1) \\\\\n",
    "\\mathbf{D}(n-1,m-1) \\\\\n",
    "\\end{cases}$$\n",
    "6. $\\mathbf{D}(n,m)$ gives us the lowest cumulative cost from $(1,1)$  to $(N,M)$\n",
    "7. Use backtracking to find path by keeping track of which step was taken during each subproblem\n"
   ]
  },
  {
   "cell_type": "code",
   "execution_count": null,
   "metadata": {
    "collapsed": true
   },
   "outputs": [],
   "source": []
  }
 ],
 "metadata": {
  "kernelspec": {
   "display_name": "Python 2",
   "language": "python",
   "name": "python2"
  },
  "language_info": {
   "codemirror_mode": {
    "name": "ipython",
    "version": 2
   },
   "file_extension": ".py",
   "mimetype": "text/x-python",
   "name": "python",
   "nbconvert_exporter": "python",
   "pygments_lexer": "ipython2",
   "version": "2.7.13"
  }
 },
 "nbformat": 4,
 "nbformat_minor": 2
}
