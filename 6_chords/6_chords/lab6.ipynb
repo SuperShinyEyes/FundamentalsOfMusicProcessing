{
 "cells": [
  {
   "cell_type": "markdown",
   "metadata": {},
   "source": [
    "# 21M.387 Fundamentals of Music Processing\n",
    "## Lab 6"
   ]
  },
  {
   "cell_type": "code",
   "execution_count": 1,
   "metadata": {},
   "outputs": [],
   "source": [
    "import numpy as np\n",
    "import matplotlib.pyplot as plt\n",
    "import IPython.display as ipd\n",
    "from ipywidgets import interact\n",
    "\n",
    "import sys\n",
    "sys.path.append(\"../common\")\n",
    "from util import *\n",
    "import fmp\n",
    "\n",
    "%matplotlib inline\n",
    "plt.rcParams['figure.figsize'] = (12, 3)"
   ]
  },
  {
   "cell_type": "markdown",
   "metadata": {},
   "source": [
    "## Exercise 1\n",
    "\n",
    "`np.roll()` is a useful function for \"modulo\" shifting the elements of an array. It comes in handy when creating the chord template matrix.\n",
    "\n",
    "Use this function to create a $10 \\times 10$ matrix where each row is a shifted version `np.arange(10)`. Hint: the diagonal of the matrix should be all zeros.\n",
    "\n",
    "Plot this matrix using `plt.imshow`."
   ]
  },
  {
   "cell_type": "code",
   "execution_count": 2,
   "metadata": {},
   "outputs": [
    {
     "name": "stdout",
     "output_type": "stream",
     "text": [
      "[[0 1 2 3 4 5 6 7 8 9]\n",
      " [9 0 1 2 3 4 5 6 7 8]\n",
      " [8 9 0 1 2 3 4 5 6 7]\n",
      " [7 8 9 0 1 2 3 4 5 6]\n",
      " [6 7 8 9 0 1 2 3 4 5]\n",
      " [5 6 7 8 9 0 1 2 3 4]\n",
      " [4 5 6 7 8 9 0 1 2 3]\n",
      " [3 4 5 6 7 8 9 0 1 2]\n",
      " [2 3 4 5 6 7 8 9 0 1]\n",
      " [1 2 3 4 5 6 7 8 9 0]]\n"
     ]
    },
    {
     "data": {
      "text/plain": [
       "<matplotlib.image.AxesImage at 0x7fa7822b7fd0>"
      ]
     },
     "execution_count": 2,
     "metadata": {},
     "output_type": "execute_result"
    },
    {
     "data": {
      "image/png": "[encoded data removed]",
      "text/plain": [
       "<matplotlib.figure.Figure at 0x7fa784396810>"
      ]
     },
     "metadata": {},
     "output_type": "display_data"
    }
   ],
   "source": [
    "a = np.arange(10)\n",
    "b = np.mod(np.roll(a[::-1],1)[:,None]+a,10)\n",
    "print b\n",
    "plt.imshow(b, origin='lower')\n"
   ]
  },
  {
   "cell_type": "markdown",
   "metadata": {},
   "source": [
    "## Exercise 2\n",
    "\n",
    "There are two normalizations we often use: \n",
    "- $L^2$ or Euclidean Norm\n",
    "- $L^1$ or Manhattan Norm \n",
    "\n",
    "Applying a Euclidean Norm produces a vector of length 1.  \n",
    "Applying a Manhattan Norm produces a vector whose components sum to 1. This can be useful for vectors acting as a probability distribution where we want:\n",
    "$$\\sum_{n=1}^{N}{p_n} = 1$$\n",
    "\n",
    "Write the function `L1_normalize_rows` that applies the Manhattan Norm to all rows of a matrix and returns the normalized matrix. \n",
    "\n",
    "- Load the test data below.\n",
    "- Test your function by plotting the un-normalized and normalized matrix with `plt.colorbar()` so you can see the results.\n",
    "- Print the values to check your function as well"
   ]
  },
  {
   "cell_type": "code",
   "execution_count": 3,
   "metadata": {},
   "outputs": [
    {
     "name": "stdout",
     "output_type": "stream",
     "text": [
      "[[ 0.12903226  0.25806452  0.03225806  0.22580645  0.09677419  0.25806452]\n",
      " [ 0.04761905  0.19047619  0.04761905  0.0952381   0.33333333  0.28571429]\n",
      " [ 0.19047619  0.02380952  0.14285714  0.21428571  0.21428571  0.21428571]\n",
      " [ 0.22727273  0.22727273  0.22727273  0.13636364  0.04545455  0.13636364]]\n",
      "[ 1.  1.  1.  1.]\n"
     ]
    }
   ],
   "source": [
    "def L1_normalize_rows(mtx):\n",
    "    return 1.0/(np.abs(mtx).sum(axis=1)[:,None])*mtx\n",
    "\n",
    "m = np.load('data/lab_ex2.npy')\n",
    "L1_normalized_m = L1_normalize_rows(m)\n",
    "print L1_normalized_m\n",
    "print np.sum(L1_normalized_m,axis=1)"
   ]
  },
  {
   "cell_type": "markdown",
   "metadata": {
    "collapsed": true
   },
   "source": [
    "## Exercise 3\n",
    "\n",
    "__a__: What are the 10 pitches (approximately) that correspond to the first 10 harmonics of the note C4? Round to the nearest integer. Feel free to use the functions `fmp.pitch_to_freq` and `fmp.freq_to_pitch`\n",
    "\n",
    "__b__: Now convert the array of pitches to an array of pitch classes."
   ]
  },
  {
   "cell_type": "code",
   "execution_count": null,
   "metadata": {},
   "outputs": [],
   "source": []
  },
  {
   "cell_type": "markdown",
   "metadata": {},
   "source": [
    "## Exercise 4\n",
    "\n",
    "Write a function to create a _normalized_ binary chord template. It takes as input a list of pitches and returns a chroma template (ie, an array of length 12)."
   ]
  },
  {
   "cell_type": "code",
   "execution_count": 5,
   "metadata": {},
   "outputs": [],
   "source": [
    "def binary_chord_template(pitches):\n",
    "    pass"
   ]
  },
  {
   "cell_type": "markdown",
   "metadata": {},
   "source": [
    "Now use your function to create the following chord templates and print out the results:\n",
    "- A minor\n",
    "- F major\n",
    "- E power chord (this is a chord of only two notes: the root and the fifth)"
   ]
  },
  {
   "cell_type": "code",
   "execution_count": null,
   "metadata": {},
   "outputs": [],
   "source": []
  },
  {
   "cell_type": "markdown",
   "metadata": {},
   "source": [
    "## Exercise 5\n",
    "\n",
    "We have seen examples of temporal smoothing (CENS chromagrams). Here you will create a function that does temporal smoothing on all the rows of a matrix (like a chromagram).\n",
    "\n",
    "Write the function `temporal_smoothing(mtx, win_len)` where $L$ = `win_len` is the length of the rectangular averaging window. For each row vector of the input matrix, $x$, create a smoothed version, $x^L$. This can be done using `np.convolve`, by convolving $x$ with a rectangular window of length $L$ and amplitude $1/L$.\n",
    "\n",
    "This is the equivalent of performing the operation:\n",
    "\n",
    "$$ x^L(n) = {1 \\over L} \\sum_{l=-(L-1)/2}^{(L-1)/2}x(n+l) $$\n",
    "\n",
    "To keep $x^L$ the same size as $x$, use the optional argument `mode='same'` in `np.convolve`.\n",
    "\n",
    "Test your function with the example chormagram below. Try different values of `win_len` to see the effect."
   ]
  },
  {
   "cell_type": "code",
   "execution_count": 7,
   "metadata": {
    "scrolled": true
   },
   "outputs": [
    {
     "data": {
      "image/png": "[encoded data removed]",
      "text/plain": [
       "<matplotlib.figure.Figure at 0x7fdb6694dc50>"
      ]
     },
     "metadata": {},
     "output_type": "display_data"
    },
    {
     "data": {
      "image/png": "[encoded data removed]",
      "text/plain": [
       "<matplotlib.figure.Figure at 0x7fdb6678aa50>"
      ]
     },
     "metadata": {},
     "output_type": "display_data"
    }
   ],
   "source": [
    "def temporal_smoothing(mtx, win_len): #mtx is the chromagram\n",
    "    rect = np.full(win_len,1.0/win_len)\n",
    "    #rect = np.hanning(win_len)\n",
    "    smoothed_mtx = np.apply_along_axis(lambda row: np.convolve(rect,row,mode='same'), 1, mtx)\n",
    "    return smoothed_mtx\n",
    "\n",
    "# the regular chromagram\n",
    "chroma = np.load('data/lab_ex4.npy')\n",
    "plt.figure()\n",
    "plt.imshow(chroma, interpolation='nearest', aspect='auto', cmap='Greys');\n",
    "\n",
    "# here, plot the smoothed chromagram\n",
    "plt.figure()\n",
    "smoothed_chroma = temporal_smoothing(chroma, 10) #test different win_len\n",
    "plt.imshow(smoothed_chroma, interpolation='nearest', aspect='auto', cmap='Greys');\n"
   ]
  },
  {
   "cell_type": "markdown",
   "metadata": {},
   "source": [
    "## Exercise 6\n",
    "\n",
    "Write a function to calculate the score for an estimated chord array. The function arguments are two sequences of chord data: \n",
    "- an algorithmically generated set of chords (`est`) and \n",
    "- a ground truth set (`gt`).\n",
    "\n",
    "The score returned should be:\n",
    "\n",
    "$$S = { \\text{# Correct} \\over \\text{ # Total} } $$\n",
    "\n",
    "Inside the function, you will need to ensure that both arrays are of the same length.\n",
    "\n",
    "Test your code and print out the result."
   ]
  },
  {
   "cell_type": "code",
   "execution_count": 22,
   "metadata": {},
   "outputs": [],
   "source": [
    "def calc_chord_score(est, gt):\n",
    "    return sum([x==y for x,y in zip(est,gt[:len(est)])])/float(len(est))\n"
   ]
  },
  {
   "cell_type": "code",
   "execution_count": 23,
   "metadata": {},
   "outputs": [
    {
     "name": "stdout",
     "output_type": "stream",
     "text": [
      "2620\n",
      "645\n",
      "0.82015503876\n"
     ]
    }
   ],
   "source": [
    "# load the estimated chord data (previously computed by me). It has a feature rate of:\n",
    "# 22050. / 2048\n",
    "est = np.load('data/lab_ex6.npy')\n",
    "\n",
    "# load the ground truth\n",
    "ff = 22050. / 2048\n",
    "gt = fmp.load_chord_annotation('audio/beatles_let_it_be.lab', ff)\n",
    "print len(gt)\n",
    "print len(est)\n",
    "print calc_chord_score(est,gt)"
   ]
  },
  {
   "cell_type": "markdown",
   "metadata": {
    "collapsed": true
   },
   "source": [
    "The answer should be: 0.82015503876\n"
   ]
  },
  {
   "cell_type": "markdown",
   "metadata": {
    "collapsed": true
   },
   "source": [
    "## Exercise 7\n",
    "\n",
    "Say we have a Markov Model with these parameters:\n",
    "\n",
    "- $I = 3$ (number of states)\n",
    "- $\\mathcal{A} = \\lbrace \\mathbf{C,G,F} \\rbrace $ (the states)\n",
    "- The probability of starting the song on $\\mathbf{C}$ is 3 times more likley than starting on $\\mathbf{F}$ or $\\mathbf{G}$.\n",
    "- The probability of staying on the same chord is 8 times more likely than moving to a different chord, but there is no difference in probability as to which chord is moved to.\n",
    "\n",
    "Write the vector $\\mathcal{C}$ and matrix $\\mathcal{A}$ as `numpy` arrays."
   ]
  },
  {
   "cell_type": "code",
   "execution_count": null,
   "metadata": {},
   "outputs": [],
   "source": []
  },
  {
   "cell_type": "markdown",
   "metadata": {},
   "source": [
    "## Exercise 8\n",
    "\n",
    "Write the function `markov_sequence_prob(seq, init_p, trans_p)` which takes as input:\n",
    "- a sequence of states\n",
    "- the initial probability vector\n",
    "- the transition probability matrix\n",
    "\n",
    "Given the Markov model of _Exercise 7_, find the probability of these two sequences:\n",
    "\n",
    "$$S_1 = (\\mathbf{C,C,G,F,F,G,C,C})$$\n",
    "$$S_2 = (\\mathbf{F,F,C,C,C,G,G,G})$$\n",
    "\n",
    "Which is more likley and by how much?"
   ]
  },
  {
   "cell_type": "code",
   "execution_count": null,
   "metadata": {},
   "outputs": [],
   "source": [
    "def markov_sequence_prob(seq, init_p, trans_p):\n",
    "    pass\n"
   ]
  },
  {
   "cell_type": "code",
   "execution_count": null,
   "metadata": {
    "collapsed": true
   },
   "outputs": [],
   "source": []
  }
 ],
 "metadata": {
  "kernelspec": {
   "display_name": "Python 2",
   "language": "python",
   "name": "python2"
  },
  "language_info": {
   "codemirror_mode": {
    "name": "ipython",
    "version": 2
   },
   "file_extension": ".py",
   "mimetype": "text/x-python",
   "name": "python",
   "nbconvert_exporter": "python",
   "pygments_lexer": "ipython2",
   "version": "2.7.12"
  }
 },
 "nbformat": 4,
 "nbformat_minor": 1
}
